{
  "nbformat": 4,
  "nbformat_minor": 0,
  "metadata": {
    "colab": {
      "provenance": []
    },
    "kernelspec": {
      "name": "python3",
      "display_name": "Python 3"
    },
    "language_info": {
      "name": "python"
    }
  },
  "cells": [
    {
      "cell_type": "code",
      "source": [
        "from PIL import Image\n",
        "import numpy as np\n",
        "import matplotlib.pyplot as plt"
      ],
      "metadata": {
        "id": "1tPFXr-UFdeD"
      },
      "execution_count": null,
      "outputs": []
    },
    {
      "cell_type": "code",
      "source": [
        "class ImageProcessor:\n",
        "    def __init__(self, path):\n",
        "        self.img = Image.open(path).convert(\"RGBA\")\n",
        "        print(f\"Imagen cargada: {path} ({self.img.size})\")\n",
        "\n",
        "    def save(self, path):\n",
        "        if self.img is not None:\n",
        "            self.img.save(path)\n",
        "            print(f\"Imagen guardada en: {path}\")\n",
        "        else:\n",
        "            print(\"No hay imagen cargada para guardar.\")\n",
        "        return self\n",
        "\n",
        "    def to_transparent(self, lower_rgb=(200,200,200), upper_rgb=(255,255,255)):\n",
        "        if self.img is None:\n",
        "            print(\"No hay imagen cargada para procesar transparencia.\")\n",
        "            return self\n",
        "\n",
        "        data = np.array(self.img)\n",
        "        r, g, b, a = data[:,:,0], data[:,:,1], data[:,:,2], data[:,:,3]\n",
        "\n",
        "        mask = ((r >= lower_rgb[0]) & (r <= upper_rgb[0]) &\n",
        "                (g >= lower_rgb[1]) & (g <= upper_rgb[1]) &\n",
        "                (b >= lower_rgb[2]) & (b <= upper_rgb[2]))\n",
        "\n",
        "        data[mask] = (0, 0, 0, 0)\n",
        "        self.img = Image.fromarray(data, mode=\"RGBA\")\n",
        "        print(f\"Transparentado aplicado con rango {lower_rgb} - {upper_rgb}\")\n",
        "        return self\n",
        "\n",
        "    def resize(self, size, keep_aspect=False):\n",
        "        if self.img is None:\n",
        "            print(\"No hay imagen cargada para redimensionar.\")\n",
        "            return self\n",
        "\n",
        "        if keep_aspect:\n",
        "            ratio_w = size[0] / self.img.width\n",
        "            ratio_h = size[1] / self.img.height\n",
        "            ratio = min(ratio_w, ratio_h)\n",
        "\n",
        "            new_w = int(self.img.width * ratio)\n",
        "            new_h = int(self.img.height * ratio)\n",
        "\n",
        "            resized_img = self.img.resize((new_w, new_h), Image.LANCZOS)\n",
        "\n",
        "            canvas = Image.new(\"RGBA\", size, (0,0,0,0))\n",
        "            offset_x = (size[0] - new_w) // 2\n",
        "            offset_y = (size[1] - new_h) // 2\n",
        "            canvas.paste(resized_img, (offset_x, offset_y))\n",
        "            self.img = canvas\n",
        "            print(f\"Imagen redimensionada manteniendo aspecto a canvas {size}\")\n",
        "        else:\n",
        "            self.img = self.img.resize(size, Image.LANCZOS)\n",
        "            print(f\"Imagen redimensionada directamente a {size}\")\n",
        "\n",
        "        return self\n",
        "\n",
        "    def scale(self, factor):\n",
        "        if self.img is None:\n",
        "            print(\"No hay imagen cargada para escalar.\")\n",
        "            return self\n",
        "\n",
        "        new_w = int(self.img.width * factor)\n",
        "        new_h = int(self.img.height * factor)\n",
        "        self.img = self.img.resize((new_w, new_h), Image.LANCZOS)\n",
        "        print(f\"Imagen escalada por factor {factor} a ({new_w}, {new_h})\")\n",
        "        return self\n",
        "\n",
        "    def show(self):\n",
        "        if self.img is None:\n",
        "            print(\"No hay imagen cargada para mostrar.\")\n",
        "            return self\n",
        "        plt.imshow(self.img)\n",
        "        plt.axis('off')\n",
        "        plt.show()\n",
        "        return self\n",
        "\n",
        "    def info(self):\n",
        "        if self.img is None:\n",
        "            print(\"No hay imagen cargada para obtener información.\")\n",
        "            return self\n",
        "        print(f\"Tamaño de la imagen: {self.img.size}\")"
      ],
      "metadata": {
        "id": "1R3lB_wgDcfU"
      },
      "execution_count": null,
      "outputs": []
    },
    {
      "cell_type": "code",
      "source": [
        "processor = ImageProcessor(\"background.png\")"
      ],
      "metadata": {
        "colab": {
          "base_uri": "https://localhost:8080/"
        },
        "id": "2rc2IXzaz5yR",
        "outputId": "e92f58c2-cdb5-45a0-853d-2ec55f935469"
      },
      "execution_count": null,
      "outputs": [
        {
          "output_type": "stream",
          "name": "stderr",
          "text": [
            "/usr/local/lib/python3.11/dist-packages/PIL/Image.py:3442: DecompressionBombWarning: Image size (108509184 pixels) exceeds limit of 89478485 pixels, could be decompression bomb DOS attack.\n",
            "  warnings.warn(\n"
          ]
        },
        {
          "output_type": "stream",
          "name": "stdout",
          "text": [
            "Imagen cargada: background.png ((11136, 9744))\n"
          ]
        }
      ]
    },
    {
      "cell_type": "code",
      "source": [
        "processor.to_transparent(lower_rgb=(200,200,200), upper_rgb=(255,255,255))"
      ],
      "metadata": {
        "colab": {
          "base_uri": "https://localhost:8080/"
        },
        "id": "mxf4zvHnD8Ed",
        "outputId": "349a4c91-5977-4a14-8f09-1a742890f827"
      },
      "execution_count": null,
      "outputs": [
        {
          "output_type": "stream",
          "name": "stdout",
          "text": [
            "Transparentado aplicado con rango (200, 200, 200) - (255, 255, 255)\n"
          ]
        },
        {
          "output_type": "execute_result",
          "data": {
            "text/plain": [
              "<__main__.ImageProcessor at 0x7a33cc4d9750>"
            ]
          },
          "metadata": {},
          "execution_count": 7
        }
      ]
    },
    {
      "cell_type": "code",
      "source": [
        "processor.resize((800,600), keep_aspect=True)"
      ],
      "metadata": {
        "id": "ZHblrZ1LD8Nn"
      },
      "execution_count": null,
      "outputs": []
    },
    {
      "cell_type": "code",
      "source": [
        "processor.scale(0.5)"
      ],
      "metadata": {
        "colab": {
          "base_uri": "https://localhost:8080/"
        },
        "id": "amWtjIFrF2RM",
        "outputId": "8de48623-8822-4dd7-f0f5-6014b924c7ea"
      },
      "execution_count": null,
      "outputs": [
        {
          "output_type": "stream",
          "name": "stdout",
          "text": [
            "Imagen escalada por factor 0.5 a (2784, 2436)\n"
          ]
        },
        {
          "output_type": "execute_result",
          "data": {
            "text/plain": [
              "<__main__.ImageProcessor at 0x7a3397766790>"
            ]
          },
          "metadata": {},
          "execution_count": 13
        }
      ]
    },
    {
      "cell_type": "code",
      "source": [
        "processor.info()"
      ],
      "metadata": {
        "colab": {
          "base_uri": "https://localhost:8080/"
        },
        "id": "5o_oar9xGO7K",
        "outputId": "8d8276d0-921e-4bf7-8267-6743ecfe72b2"
      },
      "execution_count": null,
      "outputs": [
        {
          "output_type": "stream",
          "name": "stdout",
          "text": [
            "Tamaño de la imagen: (2784, 2436)\n"
          ]
        }
      ]
    },
    {
      "cell_type": "code",
      "source": [
        "processor.show()"
      ],
      "metadata": {
        "colab": {
          "base_uri": "https://localhost:8080/",
          "height": 423
        },
        "id": "JsWY_3n0D3HE",
        "outputId": "ae325c9c-a264-46ad-942d-88afc7af886a"
      },
      "execution_count": null,
      "outputs": [
        {
          "output_type": "display_data",
          "data": {
            "text/plain": [
              "<Figure size 640x480 with 1 Axes>"
            ],
            "image/png": "[encoded data removed]"
          },
          "metadata": {}
        },
        {
          "output_type": "execute_result",
          "data": {
            "text/plain": [
              "<__main__.ImageProcessor at 0x7a3397766790>"
            ]
          },
          "metadata": {},
          "execution_count": 15
        }
      ]
    },
    {
      "cell_type": "code",
      "source": [
        "processor.save(\"background_res.png\")"
      ],
      "metadata": {
        "colab": {
          "base_uri": "https://localhost:8080/"
        },
        "id": "PmvEIZ8tD85d",
        "outputId": "a25f3255-b881-487a-9c38-eae9b2172168"
      },
      "execution_count": null,
      "outputs": [
        {
          "output_type": "stream",
          "name": "stdout",
          "text": [
            "Imagen guardada en: background_res.png\n"
          ]
        },
        {
          "output_type": "execute_result",
          "data": {
            "text/plain": [
              "<__main__.ImageProcessor at 0x7a3397766790>"
            ]
          },
          "metadata": {},
          "execution_count": 16
        }
      ]
    }
  ]
}