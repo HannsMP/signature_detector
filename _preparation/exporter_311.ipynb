{
  "cells": [
    {
      "cell_type": "code",
      "execution_count": 1,
      "metadata": {
        "id": "m6N7lK3htEi1"
      },
      "outputs": [],
      "source": [
        "from concurrent.futures import ThreadPoolExecutor, as_completed\n",
        "from PIL import Image\n",
        "import numpy as np\n",
        "import pickle\n",
        "import glob\n",
        "import os\n",
        "\n",
        "path_base = os.getcwd()"
      ]
    },
    {
      "cell_type": "markdown",
      "metadata": {},
      "source": [
        "## Metodos de preprocesamiento"
      ]
    },
    {
      "cell_type": "code",
      "execution_count": 2,
      "metadata": {
        "id": "Y1BeRYw27nTO"
      },
      "outputs": [],
      "source": [
        "def process_sample_dir(sample_dir, max_img):\n",
        "    image_forge = []\n",
        "    image_genuine = []\n",
        "\n",
        "    if os.path.isdir(sample_dir):\n",
        "        # Forge images\n",
        "        forge_path = os.path.join(sample_dir, 'forge')\n",
        "        if os.path.isdir(forge_path):\n",
        "            forge_imgs = glob.glob(os.path.join(forge_path, '*.jpg')) + glob.glob(os.path.join(forge_path, '*.png'))\n",
        "            image_forge.extend(sorted(forge_imgs)[:max_img])  # Puedes usar random.sample(...) si deseas aleatoriedad\n",
        "\n",
        "        # Genuine images\n",
        "        genuine_path = os.path.join(sample_dir, 'genuine')\n",
        "        if os.path.isdir(genuine_path):\n",
        "            genuine_imgs = glob.glob(os.path.join(genuine_path, '*.jpg')) + glob.glob(os.path.join(genuine_path, '*.png'))\n",
        "            image_genuine.extend(sorted(genuine_imgs)[:max_img])\n",
        "\n",
        "    return [image_forge, image_genuine]\n",
        "\n",
        "def read_image_from_drive_parallel(base_path: str, max_workers=8, max_sample=100, max_img=5):\n",
        "    image_data = []\n",
        "\n",
        "    sample_dirs = sorted(glob.glob(os.path.join(path_base, base_path, '*')))[:max_sample]\n",
        "    sample_len = len(sample_dirs)\n",
        "    print(f\"{base_path} con {sample_len} muestras\")\n",
        "\n",
        "    with ThreadPoolExecutor(max_workers=max_workers) as executor:\n",
        "        futures = {\n",
        "            executor.submit(process_sample_dir, d, max_img): d\n",
        "            for d in sample_dirs\n",
        "        }\n",
        "        for i, future in enumerate(as_completed(futures)):\n",
        "            print(f\"\\r[{i+1}/{sample_len}]\", end=\"\")\n",
        "            result = future.result()\n",
        "            image_data.append(result)\n",
        "\n",
        "    print()\n",
        "    return image_data\n"
      ]
    },
    {
      "cell_type": "code",
      "execution_count": 3,
      "metadata": {
        "id": "qGYe079WbnJD"
      },
      "outputs": [],
      "source": [
        "def load_image_matrix_grayscale(img_path, scale=(640, 480), min_range=None, max_range=None, change_for=None):\n",
        "    \"\"\"\n",
        "    Carga una imagen en escala de grises, la escala proporcionalmente \n",
        "    según el lado mayor, y la rellena centrada en un canvas blanco del tamaño `scale`.\n",
        "    Luego reemplaza los valores que estén en el rango (min_range, max_range)\n",
        "    por `change_for` si se especifica.\n",
        "\n",
        "    Retorna una matriz 2D (alto x ancho) con valores [0,255].\n",
        "    \"\"\"\n",
        "    try:\n",
        "        # Abrir imagen y convertir a escala de grises\n",
        "        img = Image.open(img_path).convert('L')\n",
        "        original_width, original_height = img.size\n",
        "        target_width, target_height = scale\n",
        "\n",
        "        # Escalado proporcional\n",
        "        ratio = min(target_width / original_width, target_height / original_height)\n",
        "        new_width = int(original_width * ratio)\n",
        "        new_height = int(original_height * ratio)\n",
        "\n",
        "        # Redimensionar imagen\n",
        "        img_resized = img.resize((new_width, new_height), Image.LANCZOS)\n",
        "\n",
        "        # Crear canvas blanco (255)\n",
        "        canvas = Image.new('L', (target_width, target_height), color=255)\n",
        "        offset_x = (target_width - new_width) // 2\n",
        "        offset_y = (target_height - new_height) // 2\n",
        "        canvas.paste(img_resized, (offset_x, offset_y))\n",
        "\n",
        "        # Convertir a matriz numpy\n",
        "        matrix = np.array(canvas)\n",
        "\n",
        "        # Aplicar reemplazo si se indica\n",
        "        if min_range is not None and max_range is not None and change_for is not None:\n",
        "            mask = (matrix >= min_range) & (matrix <= max_range)\n",
        "            matrix[mask] = change_for\n",
        "\n",
        "        return matrix\n",
        "\n",
        "    except Exception as e:\n",
        "        print(f\"\\nError loading image {img_path}: {e}\")\n",
        "        return None\n",
        "\n",
        "\n",
        "def load_images_as_matrices_parallel(path_data, max_workers=8, scale=(640, 480), min_range=None, max_range=None, change_for=None):\n",
        "    \"\"\"\n",
        "    Carga imágenes en paralelo por muestra utilizando ThreadPoolExecutor,\n",
        "    aplicando escalado proporcional con padding negro a tamaño fijo.\n",
        "    \"\"\"\n",
        "    image_data_matrices = []\n",
        "    total_samples = len(path_data)\n",
        "\n",
        "    for i, sample in enumerate(path_data):\n",
        "        print(f\"\\rProcesando muestra [{i+1}/{total_samples}]\", end=\"\")\n",
        "\n",
        "        forge_paths, genuine_paths = sample\n",
        "        forge_matrices = []\n",
        "        genuine_matrices = []\n",
        "\n",
        "        with ThreadPoolExecutor(max_workers=max_workers) as executor:\n",
        "            forge_futures = {\n",
        "                executor.submit(load_image_matrix_grayscale, path, scale, min_range, max_range, change_for): path\n",
        "                for path in forge_paths\n",
        "            }\n",
        "            for future in as_completed(forge_futures):\n",
        "                img_matrix = future.result()\n",
        "                if img_matrix is not None:\n",
        "                    forge_matrices.append(img_matrix)\n",
        "\n",
        "            genuine_futures = {\n",
        "                executor.submit(load_image_matrix_grayscale, path, scale, min_range, max_range, change_for): path\n",
        "                for path in genuine_paths\n",
        "            }\n",
        "            for future in as_completed(genuine_futures):\n",
        "                img_matrix = future.result()\n",
        "                if img_matrix is not None:\n",
        "                    genuine_matrices.append(img_matrix)\n",
        "\n",
        "        image_data_matrices.append([forge_matrices, genuine_matrices])\n",
        "    print()\n",
        "    return image_data_matrices"
      ]
    },
    {
      "cell_type": "code",
      "execution_count": 4,
      "metadata": {
        "id": "93_GE8CY9djE"
      },
      "outputs": [],
      "source": [
        "def export_data_to_binary(data, filename):\n",
        "    \"\"\"\n",
        "    Exporta datos a un archivo binario usando pickle.\n",
        "\n",
        "    data: Los datos a exportar (lista de matrices de imágenes).\n",
        "    filename: Nombre del archivo binario de salida.\n",
        "    \"\"\"\n",
        "\n",
        "    dir_save = os.path.join(path_base, filename)\n",
        "\n",
        "    try:\n",
        "        with open(dir_save, 'wb') as f:\n",
        "            pickle.dump(data, f)\n",
        "        print(f\"\\nDatos exportados exitosamente a '{dir_save}'\")\n",
        "    except Exception as e:\n",
        "        print(f\"\\nError al exportar datos a '{dir_save}': {e}\")"
      ]
    },
    {
      "cell_type": "code",
      "execution_count": 5,
      "metadata": {},
      "outputs": [],
      "source": [
        "import matplotlib.pyplot as plt\n",
        "import numpy as np\n",
        "\n",
        "def mostrar_imagen_muestra(image_data, muestra_idx=0, tipo='forge', imagen_idx=0):\n",
        "    \"\"\"\n",
        "    Muestra una imagen específica de una muestra en image_data.\n",
        "    Convierte imágenes en escala de grises (H, W) o (H, W, 1) a formato RGB (H, W, 3).\n",
        "\n",
        "    Parámetros:\n",
        "        image_data: lista con la estructura [[forge[], genuine[]], ...]\n",
        "        muestra_idx: índice de la muestra (ej. 0 para la primera)\n",
        "        tipo: 'forge' o 'genuine'\n",
        "        imagen_idx: índice de la imagen dentro del tipo\n",
        "    \"\"\"\n",
        "    try:\n",
        "        tipo_idx = 0 if tipo == 'forge' else 1\n",
        "        imagen = image_data[muestra_idx][tipo_idx][imagen_idx]\n",
        "\n",
        "        # Asegurar forma (H, W)\n",
        "        if imagen.ndim == 3 and imagen.shape[-1] == 1:\n",
        "            imagen = imagen[:, :, 0]  # quitar dimensión de canal\n",
        "\n",
        "        # Convertir a RGB duplicando valores\n",
        "        if imagen.ndim == 2:\n",
        "            imagen_rgb = np.stack([imagen] * 3, axis=-1)\n",
        "        else:\n",
        "            imagen_rgb = imagen  # ya sería RGB si llega aquí\n",
        "\n",
        "        plt.imshow(imagen_rgb.astype(np.uint8))\n",
        "        plt.axis('off')\n",
        "        plt.title(f\"Muestra {muestra_idx} - {tipo} #{imagen_idx}\")\n",
        "        plt.show()\n",
        "\n",
        "    except IndexError:\n",
        "        print(\"❌ Índices fuera de rango. Verifica muestra_idx e imagen_idx.\")\n",
        "    except Exception as e:\n",
        "        print(f\"❌ Error al mostrar imagen: {e}\")\n"
      ]
    },
    {
      "cell_type": "markdown",
      "metadata": {},
      "source": [
        "## Procesando Train"
      ]
    },
    {
      "cell_type": "code",
      "execution_count": 6,
      "metadata": {
        "colab": {
          "base_uri": "https://localhost:8080/"
        },
        "id": "V1DOE5aBtTrr",
        "outputId": "0320eca8-4cb5-40fc-a1b6-3a4c5e5ca032"
      },
      "outputs": [
        {
          "name": "stdout",
          "output_type": "stream",
          "text": [
            "train con 210 muestras\n",
            "[210/210]\n"
          ]
        }
      ],
      "source": [
        "path_train = read_image_from_drive_parallel('train', max_sample=210, max_img=2)"
      ]
    },
    {
      "cell_type": "code",
      "execution_count": 7,
      "metadata": {
        "colab": {
          "base_uri": "https://localhost:8080/"
        },
        "id": "_w4zmQjd0gPd",
        "outputId": "0dcc6dbe-4dae-4f1c-8fe6-5f044633a35d"
      },
      "outputs": [
        {
          "name": "stdout",
          "output_type": "stream",
          "text": [
            "Procesando muestra [210/210]\n"
          ]
        }
      ],
      "source": [
        "image_data_train = load_images_as_matrices_parallel(path_train, scale=(320, 240), min_range=180, max_range=255, change_for=255 )"
      ]
    },
    {
      "cell_type": "code",
      "execution_count": 10,
      "metadata": {},
      "outputs": [
        {
          "name": "stdout",
          "output_type": "stream",
          "text": [
            "\n",
            "Datos exportados exitosamente a 'c:\\Users\\darkcry\\Documents\\git\\signature_detector\\signature_datasets\\train_image(210,2,2,240,320)[180,255,255].pkl'\n"
          ]
        }
      ],
      "source": [
        "export_data_to_binary(image_data_train, 'train_image(210,2,2,240,320)[180,255,255].pkl')"
      ]
    },
    {
      "cell_type": "code",
      "execution_count": 8,
      "metadata": {},
      "outputs": [],
      "source": [
        "np_image_data_train = np.array(image_data_train)"
      ]
    },
    {
      "cell_type": "code",
      "execution_count": 9,
      "metadata": {},
      "outputs": [
        {
          "data": {
            "text/plain": [
              "(210, 2, 2, 240, 320)"
            ]
          },
          "execution_count": 9,
          "metadata": {},
          "output_type": "execute_result"
        }
      ],
      "source": [
        "np_image_data_train.shape"
      ]
    },
    {
      "cell_type": "code",
      "execution_count": null,
      "metadata": {},
      "outputs": [],
      "source": [
        "export_data_to_binary(np_image_data_train, 'np_train_image_matrices.pkl')"
      ]
    },
    {
      "cell_type": "markdown",
      "metadata": {},
      "source": [
        "## Procesando Test"
      ]
    },
    {
      "cell_type": "code",
      "execution_count": 43,
      "metadata": {
        "colab": {
          "base_uri": "https://localhost:8080/"
        },
        "id": "NZcul0ed_j3B",
        "outputId": "859bbe2a-7e21-40eb-9a43-86ba154638da"
      },
      "outputs": [
        {
          "name": "stdout",
          "output_type": "stream",
          "text": [
            "test con 150 muestras\n",
            "[150/150]\n"
          ]
        }
      ],
      "source": [
        "path_test = read_image_from_drive_parallel('test', max_sample=150, max_img=4)"
      ]
    },
    {
      "cell_type": "code",
      "execution_count": 44,
      "metadata": {
        "id": "SabKuiH1_lxw"
      },
      "outputs": [
        {
          "name": "stdout",
          "output_type": "stream",
          "text": [
            "Procesando muestra [150/150]\n"
          ]
        }
      ],
      "source": [
        "image_data_test = load_images_as_matrices_parallel(path_test, scale=(320, 240), min_range=180, max_range=255, change_for=255 )"
      ]
    },
    {
      "cell_type": "code",
      "execution_count": null,
      "metadata": {},
      "outputs": [
        {
          "name": "stdout",
          "output_type": "stream",
          "text": [
            "\n",
            "Datos exportados exitosamente a 'c:\\Users\\darkcry\\Documents\\git\\signature_detector\\signature_datasets\\test_image(150,2,4,240,320)[0,255][180,255,255].pkl'\n"
          ]
        }
      ],
      "source": [
        "export_data_to_binary(image_data_test, 'test_image(150,2,4,240,320)[180,255,255].pkl')"
      ]
    },
    {
      "cell_type": "code",
      "execution_count": 45,
      "metadata": {},
      "outputs": [],
      "source": [
        "np_image_data_test = np.array(image_data_test)"
      ]
    },
    {
      "cell_type": "code",
      "execution_count": 46,
      "metadata": {},
      "outputs": [
        {
          "data": {
            "text/plain": [
              "(150, 2, 4, 240, 320)"
            ]
          },
          "execution_count": 46,
          "metadata": {},
          "output_type": "execute_result"
        }
      ],
      "source": [
        "np_image_data_test.shape"
      ]
    },
    {
      "cell_type": "code",
      "execution_count": null,
      "metadata": {},
      "outputs": [],
      "source": [
        "export_data_to_binary(np_image_data_test, 'np_test_image_matrices.pkl')"
      ]
    },
    {
      "cell_type": "markdown",
      "metadata": {},
      "source": [
        "## Ploteo"
      ]
    },
    {
      "cell_type": "code",
      "execution_count": 27,
      "metadata": {},
      "outputs": [
        {
          "data": {
            "image/png": "[encoded data removed]",
            "text/plain": [
              "<Figure size 640x480 with 1 Axes>"
            ]
          },
          "metadata": {},
          "output_type": "display_data"
        }
      ],
      "source": [
        "mostrar_imagen_muestra(image_data_train, muestra_idx=24, tipo='genuine', imagen_idx=1)"
      ]
    },
    {
      "cell_type": "code",
      "execution_count": 18,
      "metadata": {},
      "outputs": [
        {
          "name": "stdout",
          "output_type": "stream",
          "text": [
            "🔹 Imagen original (2D):\n",
            "[[  0 127 255]\n",
            " [ 60 100 200]\n",
            " [ 30  90 180]]\n",
            "Shape: (3, 3)\n",
            "\n",
            "🔸 Imagen con canal expandido (3D):\n",
            "[[[  0]\n",
            "  [127]\n",
            "  [255]]\n",
            "\n",
            " [[ 60]\n",
            "  [100]\n",
            "  [200]]\n",
            "\n",
            " [[ 30]\n",
            "  [ 90]\n",
            "  [180]]]\n",
            "Shape: (3, 3, 1)\n"
          ]
        },
        {
          "data": {
            "image/png": "[encoded data removed]",
            "text/plain": [
              "<Figure size 640x480 with 1 Axes>"
            ]
          },
          "metadata": {},
          "output_type": "display_data"
        }
      ],
      "source": [
        "import numpy as np\n",
        "import matplotlib.pyplot as plt\n",
        "\n",
        "# Crear una imagen de ejemplo en escala de grises de 3x3 (matriz 2D)\n",
        "img_gray = np.array([\n",
        "    [0, 127, 255],\n",
        "    [60, 100, 200],\n",
        "    [30, 90, 180]\n",
        "], dtype=np.uint8)\n",
        "\n",
        "print(\"🔹 Imagen original (2D):\")\n",
        "print(img_gray)\n",
        "print(\"Shape:\", img_gray.shape)  # (3, 3)\n",
        "\n",
        "# Expandir la dimensión del canal (convierte a 3D)\n",
        "img_expanded = np.expand_dims(img_gray, axis=-1)  # o img_gray[..., np.newaxis]\n",
        "\n",
        "print(\"\\n🔸 Imagen con canal expandido (3D):\")\n",
        "print(img_expanded)\n",
        "print(\"Shape:\", img_expanded.shape)  # (3, 3, 1)\n",
        "\n",
        "# Visualizar con matplotlib (capa 0)\n",
        "plt.imshow(img_expanded[:, :, 0], cmap='gray')\n",
        "plt.title(\"Imagen en escala de grises\")\n",
        "plt.axis('off')\n",
        "plt.show()\n"
      ]
    }
  ],
  "metadata": {
    "colab": {
      "provenance": []
    },
    "kernelspec": {
      "display_name": "Python 3",
      "name": "python3"
    },
    "language_info": {
      "codemirror_mode": {
        "name": "ipython",
        "version": 3
      },
      "file_extension": ".py",
      "mimetype": "text/x-python",
      "name": "python",
      "nbconvert_exporter": "python",
      "pygments_lexer": "ipython3",
      "version": "3.11.0"
    }
  },
  "nbformat": 4,
  "nbformat_minor": 0
}
