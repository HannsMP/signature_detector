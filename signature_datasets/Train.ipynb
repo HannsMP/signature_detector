{
  "cells": [
    {
      "cell_type": "code",
      "execution_count": null,
      "metadata": {
        "colab": {
          "base_uri": "https://localhost:8080/"
        },
        "id": "c03mJoUUEMp_",
        "outputId": "16744b93-0437-4df9-b0b6-9d66f508fe5e"
      },
      "outputs": [
        {
          "name": "stdout",
          "output_type": "stream",
          "text": [
            "Drive already mounted at /content/drive; to attempt to forcibly remount, call drive.mount(\"/content/drive\", force_remount=True).\n"
          ]
        }
      ],
      "source": [
        "from google.colab import drive\n",
        "\n",
        "# Mount Google Drive\n",
        "drive.mount('/content/drive')"
      ]
    },
    {
      "cell_type": "code",
      "execution_count": null,
      "metadata": {
        "id": "J6C5qfmTBwV0"
      },
      "outputs": [],
      "source": [
        "import pickle\n",
        "\n",
        "\n",
        "def import_pkl(file_path):\n",
        "    # Specify the path to the pickle file\n",
        "\n",
        "    # Load the pickle file\n",
        "    try:\n",
        "        with open(file_path, 'rb') as f:\n",
        "            loaded_data = pickle.load(f)\n",
        "\n",
        "        print(\"Pickle file loaded successfully.\")\n",
        "        # You can now work with 'loaded_data'\n",
        "\n",
        "        return loaded_data\n",
        "\n",
        "    except FileNotFoundError:\n",
        "        print(f\"Error: File not found at {file_path}\")\n",
        "    except Exception as e:\n",
        "        print(f\"An error occurred: {e}\")\n"
      ]
    },
    {
      "cell_type": "code",
      "execution_count": null,
      "metadata": {
        "id": "QWAHQ8RwFRHS"
      },
      "outputs": [],
      "source": [
        "import numpy as np\n",
        "\n",
        "\n",
        "def maik_pairs(data_signature:list[list, list]):\n",
        "    pairs = []\n",
        "    labels = []\n",
        "\n",
        "    def preprocess(img):\n",
        "        return np.expand_dims(img, axis=-1)\n",
        "\n",
        "    def append(img1, img2, value):\n",
        "        pairs.append([img1, img2])\n",
        "        labels.append(value)\n",
        "\n",
        "    total_samples = len(data_signature)\n",
        "\n",
        "    for i in range(total_samples):\n",
        "\n",
        "        print(f\"\\rMuestra: [{i+1}/{total_samples}]\", end=\"\")\n",
        "\n",
        "        forge, genuine = data_signature[i]\n",
        "\n",
        "        for j in range(len(forge)):\n",
        "            forge[j] = preprocess(forge[j])\n",
        "\n",
        "        for j in range(len(genuine)):\n",
        "            genuine[j] = preprocess(genuine[j])\n",
        "\n",
        "        # 1. Comparaciones genuino vs genuino (misma clase → label 0)\n",
        "        for i in range(len(genuine)):\n",
        "            for j in range(i + 1, len(genuine)):\n",
        "                append(genuine[i], genuine[j], \"0\")\n",
        "\n",
        "        # 2. Comparaciones genuino vs forge (clases distintas → label 1)\n",
        "        for img_genuine in genuine:\n",
        "            for img_forge in forge:\n",
        "                append(img_genuine, img_forge, \"1\")\n",
        "\n",
        "    print()\n",
        "    return np.array(pairs), np.array(labels)"
      ]
    },
    {
      "cell_type": "code",
      "execution_count": null,
      "metadata": {
        "colab": {
          "base_uri": "https://localhost:8080/"
        },
        "id": "Vbxgn9wOKpzG",
        "outputId": "43415288-6755-4c2b-a51d-e5771a6caa86"
      },
      "outputs": [
        {
          "name": "stdout",
          "output_type": "stream",
          "text": [
            "Pickle file loaded successfully.\n",
            "\rMuestra: [1/150]\rMuestra: [2/150]\rMuestra: [3/150]\rMuestra: [4/150]\rMuestra: [5/150]\rMuestra: [6/150]\rMuestra: [7/150]\rMuestra: [8/150]\rMuestra: [9/150]\rMuestra: [10/150]\rMuestra: [11/150]\rMuestra: [12/150]\rMuestra: [13/150]\rMuestra: [14/150]\rMuestra: [15/150]\rMuestra: [16/150]\rMuestra: [17/150]\rMuestra: [18/150]\rMuestra: [19/150]\rMuestra: [20/150]\rMuestra: [21/150]\rMuestra: [22/150]\rMuestra: [23/150]\rMuestra: [24/150]\rMuestra: [25/150]\rMuestra: [26/150]\rMuestra: [27/150]\rMuestra: [28/150]\rMuestra: [29/150]\rMuestra: [30/150]\rMuestra: [31/150]\rMuestra: [32/150]\rMuestra: [33/150]\rMuestra: [34/150]\rMuestra: [35/150]\rMuestra: [36/150]\rMuestra: [37/150]\rMuestra: [38/150]\rMuestra: [39/150]\rMuestra: [40/150]\rMuestra: [41/150]\rMuestra: [42/150]\rMuestra: [43/150]\rMuestra: [44/150]\rMuestra: [45/150]\rMuestra: [46/150]\rMuestra: [47/150]\rMuestra: [48/150]\rMuestra: [49/150]\rMuestra: [50/150]\rMuestra: [51/150]\rMuestra: [52/150]\rMuestra: [53/150]\rMuestra: [54/150]\rMuestra: [55/150]\rMuestra: [56/150]\rMuestra: [57/150]\rMuestra: [58/150]\rMuestra: [59/150]\rMuestra: [60/150]\rMuestra: [61/150]\rMuestra: [62/150]\rMuestra: [63/150]\rMuestra: [64/150]\rMuestra: [65/150]\rMuestra: [66/150]\rMuestra: [67/150]\rMuestra: [68/150]\rMuestra: [69/150]\rMuestra: [70/150]\rMuestra: [71/150]\rMuestra: [72/150]\rMuestra: [73/150]\rMuestra: [74/150]\rMuestra: [75/150]\rMuestra: [76/150]\rMuestra: [77/150]\rMuestra: [78/150]\rMuestra: [79/150]\rMuestra: [80/150]\rMuestra: [81/150]\rMuestra: [82/150]\rMuestra: [83/150]\rMuestra: [84/150]\rMuestra: [85/150]\rMuestra: [86/150]\rMuestra: [87/150]\rMuestra: [88/150]\rMuestra: [89/150]\rMuestra: [90/150]\rMuestra: [91/150]\rMuestra: [92/150]\rMuestra: [93/150]\rMuestra: [94/150]\rMuestra: [95/150]\rMuestra: [96/150]\rMuestra: [97/150]\rMuestra: [98/150]\rMuestra: [99/150]\rMuestra: [100/150]\rMuestra: [101/150]\rMuestra: [102/150]\rMuestra: [103/150]\rMuestra: [104/150]\rMuestra: [105/150]\rMuestra: [106/150]\rMuestra: [107/150]\rMuestra: [108/150]\rMuestra: [109/150]\rMuestra: [110/150]\rMuestra: [111/150]\rMuestra: [112/150]\rMuestra: [113/150]\rMuestra: [114/150]\rMuestra: [115/150]\rMuestra: [116/150]\rMuestra: [117/150]\rMuestra: [118/150]\rMuestra: [119/150]\rMuestra: [120/150]\rMuestra: [121/150]\rMuestra: [122/150]\rMuestra: [123/150]\rMuestra: [124/150]\rMuestra: [125/150]\rMuestra: [126/150]\rMuestra: [127/150]\rMuestra: [128/150]\rMuestra: [129/150]\rMuestra: [130/150]\rMuestra: [131/150]\rMuestra: [132/150]\rMuestra: [133/150]\rMuestra: [134/150]\rMuestra: [135/150]\rMuestra: [136/150]\rMuestra: [137/150]\rMuestra: [138/150]\rMuestra: [139/150]\rMuestra: [140/150]\rMuestra: [141/150]\rMuestra: [142/150]\rMuestra: [143/150]\rMuestra: [144/150]\rMuestra: [145/150]\rMuestra: [146/150]\rMuestra: [147/150]\rMuestra: [148/150]\rMuestra: [149/150]\rMuestra: [150/150]\n"
          ]
        }
      ],
      "source": [
        "train_pairs, train_labels = maik_pairs(\n",
        "    import_pkl('/content/drive/MyDrive/dataset_signature/train_image_matrices.pkl')\n",
        ")"
      ]
    },
    {
      "cell_type": "code",
      "execution_count": null,
      "metadata": {
        "colab": {
          "base_uri": "https://localhost:8080/"
        },
        "id": "ySUS6cw6QRVS",
        "outputId": "96ef1f72-6514-4a71-d394-be2489b07d92"
      },
      "outputs": [
        {
          "name": "stdout",
          "output_type": "stream",
          "text": [
            "Pickle file loaded successfully.\n",
            "\rMuestra: [1/50]\rMuestra: [2/50]\rMuestra: [3/50]\rMuestra: [4/50]\rMuestra: [5/50]\rMuestra: [6/50]\rMuestra: [7/50]\rMuestra: [8/50]\rMuestra: [9/50]\rMuestra: [10/50]\rMuestra: [11/50]\rMuestra: [12/50]\rMuestra: [13/50]\rMuestra: [14/50]\rMuestra: [15/50]\rMuestra: [16/50]\rMuestra: [17/50]\rMuestra: [18/50]\rMuestra: [19/50]\rMuestra: [20/50]\rMuestra: [21/50]\rMuestra: [22/50]\rMuestra: [23/50]\rMuestra: [24/50]\rMuestra: [25/50]\rMuestra: [26/50]\rMuestra: [27/50]\rMuestra: [28/50]\rMuestra: [29/50]\rMuestra: [30/50]\rMuestra: [31/50]\rMuestra: [32/50]\rMuestra: [33/50]\rMuestra: [34/50]\rMuestra: [35/50]\rMuestra: [36/50]\rMuestra: [37/50]\rMuestra: [38/50]\rMuestra: [39/50]\rMuestra: [40/50]\rMuestra: [41/50]\rMuestra: [42/50]\rMuestra: [43/50]\rMuestra: [44/50]\rMuestra: [45/50]\rMuestra: [46/50]\rMuestra: [47/50]\rMuestra: [48/50]\rMuestra: [49/50]\rMuestra: [50/50]\n"
          ]
        }
      ],
      "source": [
        "test_pairs, test_labels = maik_pairs(\n",
        "    import_pkl('/content/drive/MyDrive/dataset_signature/test_image_matrices.pkl')\n",
        ")"
      ]
    },
    {
      "cell_type": "markdown",
      "metadata": {
        "id": "Vzfa9hU7QtOT"
      },
      "source": [
        "# Neural Network"
      ]
    },
    {
      "cell_type": "code",
      "execution_count": null,
      "metadata": {
        "id": "_anUoT9mRNwy"
      },
      "outputs": [],
      "source": [
        "from __future__ import absolute_import, division, print_function, unicode_literals\n",
        "\n",
        "import tensorflow as tf\n",
        "from sklearn.metrics import classification_report, confusion_matrix\n",
        "from sklearn.preprocessing import LabelEncoder\n",
        "from tensorflow.keras.utils import to_categorical"
      ]
    },
    {
      "cell_type": "code",
      "execution_count": null,
      "metadata": {
        "colab": {
          "base_uri": "https://localhost:8080/"
        },
        "id": "oZig8u-ERVXJ",
        "outputId": "e2211d1b-fc60-4ebf-9b7b-9331b708d289"
      },
      "outputs": [
        {
          "name": "stdout",
          "output_type": "stream",
          "text": [
            "1 Physical GPUs, 1 Logical GPUs\n"
          ]
        }
      ],
      "source": [
        "gpus = tf.config.experimental.list_physical_devices('GPU')\n",
        "if gpus:\n",
        "    try:\n",
        "        for gpu in gpus:\n",
        "            tf.config.experimental.set_memory_growth(gpu, True)\n",
        "        logical_gpus = tf.config.experimental.list_logical_devices('GPU')\n",
        "        print(len(gpus), \"Physical GPUs,\", len(logical_gpus), \"Logical GPUs\")\n",
        "    except RuntimeError as e:\n",
        "        print(e)"
      ]
    },
    {
      "cell_type": "code",
      "execution_count": null,
      "metadata": {
        "id": "oMLCWjfcWah1"
      },
      "outputs": [],
      "source": [
        "from tensorflow.keras.mixed_precision import set_global_policy\n",
        "set_global_policy('mixed_float16')"
      ]
    },
    {
      "cell_type": "code",
      "execution_count": null,
      "metadata": {
        "id": "9CaZCwS2QyfB"
      },
      "outputs": [],
      "source": [
        "# Codificar las etiquetas\n",
        "label_encoder = LabelEncoder()\n",
        "train_labels_encoded = label_encoder.fit_transform(train_labels)\n",
        "test_labels_encoded = label_encoder.transform(test_labels)\n",
        "\n",
        "# Convertir a one-hot (para softmax)\n",
        "num_classes = len(label_encoder.classes_)\n",
        "train_labels_cat = to_categorical(train_labels_encoded, num_classes)\n",
        "test_labels_cat = to_categorical(test_labels_encoded, num_classes)"
      ]
    },
    {
      "cell_type": "code",
      "execution_count": null,
      "metadata": {
        "id": "Bq2JB5WLQ04R"
      },
      "outputs": [],
      "source": [
        "BATCH_SIZE = 8\n",
        "\n",
        "train_dataset = tf.data.Dataset.from_tensor_slices(((train_pairs[:, 0], train_pairs[:, 1]), train_labels_cat))\n",
        "train_dataset = train_dataset.shuffle(1024).batch(BATCH_SIZE).prefetch(tf.data.AUTOTUNE)\n",
        "\n",
        "test_dataset = tf.data.Dataset.from_tensor_slices(((test_pairs[:, 0], test_pairs[:, 1]), test_labels_cat))\n",
        "test_dataset = test_dataset.batch(BATCH_SIZE).prefetch(tf.data.AUTOTUNE)"
      ]
    },
    {
      "cell_type": "code",
      "execution_count": null,
      "metadata": {
        "id": "0vBtzd3SQ2ux"
      },
      "outputs": [],
      "source": [
        "def build_base_network(input_shape):\n",
        "    inputs = tf.keras.Input(shape=input_shape)\n",
        "    x = tf.keras.layers.Conv2D(16, (3, 3), activation='relu', padding='same')(inputs)\n",
        "    x = tf.keras.layers.MaxPooling2D()(x)\n",
        "\n",
        "    x = tf.keras.layers.Conv2D(32, (3, 3), activation='relu', padding='same')(x)\n",
        "    x = tf.keras.layers.MaxPooling2D()(x)\n",
        "\n",
        "    x = tf.keras.layers.Conv2D(64, (3, 3), activation='relu', padding='same')(x)\n",
        "    x = tf.keras.layers.GlobalAveragePooling2D()(x)  # Sustituye Flatten\n",
        "\n",
        "    x = tf.keras.layers.Dense(128, activation='relu')(x)\n",
        "    return tf.keras.Model(inputs, x)\n",
        "\n",
        "def build_siamese_network(input_shape, num_classes):\n",
        "    base_network = build_base_network(input_shape)\n",
        "\n",
        "    input_a = tf.keras.Input(shape=input_shape)\n",
        "    input_b = tf.keras.Input(shape=input_shape)\n",
        "\n",
        "    processed_a = base_network(input_a)\n",
        "    processed_b = base_network(input_b)\n",
        "\n",
        "    l1_distance = tf.keras.layers.Lambda(lambda tensors: tf.abs(tensors[0] - tensors[1]))(\n",
        "        [processed_a, processed_b]\n",
        "    )\n",
        "    x = tf.keras.layers.Dense(64, activation='relu')(l1_distance)\n",
        "    x = tf.keras.layers.Dense(32, activation='relu')(x)\n",
        "    outputs = tf.keras.layers.Dense(num_classes, activation='softmax')(x)\n",
        "\n",
        "    model = tf.keras.Model(inputs=[input_a, input_b], outputs=outputs)\n",
        "    return model"
      ]
    },
    {
      "cell_type": "code",
      "execution_count": null,
      "metadata": {
        "id": "dN1BcNXFQ6bC"
      },
      "outputs": [],
      "source": [
        "model = build_siamese_network(input_shape=(240, 320, 1), num_classes=num_classes)\n",
        "\n",
        "model.compile(optimizer='adam', loss='categorical_crossentropy', metrics=['accuracy'])"
      ]
    },
    {
      "cell_type": "code",
      "execution_count": null,
      "metadata": {
        "colab": {
          "base_uri": "https://localhost:8080/"
        },
        "id": "s37ExCrUQ9si",
        "outputId": "66e9cd74-a3ff-473b-9a90-bd10b50324c3"
      },
      "outputs": [
        {
          "name": "stdout",
          "output_type": "stream",
          "text": [
            "Epoch 1/40\n",
            "\u001b[1m657/657\u001b[0m \u001b[32m━━━━━━━━━━━━━━━━━━━━\u001b[0m\u001b[37m\u001b[0m \u001b[1m6s\u001b[0m 8ms/step - accuracy: 0.8489 - loss: 0.3194 - val_accuracy: 0.7345 - val_loss: 0.5855\n",
            "Epoch 2/40\n",
            "\u001b[1m657/657\u001b[0m \u001b[32m━━━━━━━━━━━━━━━━━━━━\u001b[0m\u001b[37m\u001b[0m \u001b[1m10s\u001b[0m 9ms/step - accuracy: 0.8402 - loss: 0.3192 - val_accuracy: 0.7145 - val_loss: 0.6118\n",
            "Epoch 3/40\n",
            "\u001b[1m657/657\u001b[0m \u001b[32m━━━━━━━━━━━━━━━━━━━━\u001b[0m\u001b[37m\u001b[0m \u001b[1m5s\u001b[0m 8ms/step - accuracy: 0.8576 - loss: 0.2984 - val_accuracy: 0.7318 - val_loss: 0.6564\n",
            "Epoch 4/40\n",
            "\u001b[1m657/657\u001b[0m \u001b[32m━━━━━━━━━━━━━━━━━━━━\u001b[0m\u001b[37m\u001b[0m \u001b[1m6s\u001b[0m 9ms/step - accuracy: 0.8613 - loss: 0.2961 - val_accuracy: 0.7073 - val_loss: 0.6789\n",
            "Epoch 5/40\n",
            "\u001b[1m657/657\u001b[0m \u001b[32m━━━━━━━━━━━━━━━━━━━━\u001b[0m\u001b[37m\u001b[0m \u001b[1m6s\u001b[0m 8ms/step - accuracy: 0.8631 - loss: 0.2850 - val_accuracy: 0.6918 - val_loss: 0.7024\n",
            "Epoch 6/40\n",
            "\u001b[1m657/657\u001b[0m \u001b[32m━━━━━━━━━━━━━━━━━━━━\u001b[0m\u001b[37m\u001b[0m \u001b[1m11s\u001b[0m 9ms/step - accuracy: 0.8595 - loss: 0.2896 - val_accuracy: 0.7264 - val_loss: 0.6215\n",
            "Epoch 7/40\n",
            "\u001b[1m657/657\u001b[0m \u001b[32m━━━━━━━━━━━━━━━━━━━━\u001b[0m\u001b[37m\u001b[0m \u001b[1m5s\u001b[0m 8ms/step - accuracy: 0.8503 - loss: 0.2944 - val_accuracy: 0.6800 - val_loss: 0.6821\n",
            "Epoch 8/40\n",
            "\u001b[1m657/657\u001b[0m \u001b[32m━━━━━━━━━━━━━━━━━━━━\u001b[0m\u001b[37m\u001b[0m \u001b[1m6s\u001b[0m 9ms/step - accuracy: 0.8609 - loss: 0.2810 - val_accuracy: 0.7018 - val_loss: 0.6694\n",
            "Epoch 9/40\n",
            "\u001b[1m657/657\u001b[0m \u001b[32m━━━━━━━━━━━━━━━━━━━━\u001b[0m\u001b[37m\u001b[0m \u001b[1m5s\u001b[0m 8ms/step - accuracy: 0.8626 - loss: 0.2930 - val_accuracy: 0.7000 - val_loss: 0.7402\n",
            "Epoch 10/40\n",
            "\u001b[1m657/657\u001b[0m \u001b[32m━━━━━━━━━━━━━━━━━━━━\u001b[0m\u001b[37m\u001b[0m \u001b[1m11s\u001b[0m 9ms/step - accuracy: 0.8566 - loss: 0.2946 - val_accuracy: 0.7100 - val_loss: 0.6386\n",
            "Epoch 11/40\n",
            "\u001b[1m657/657\u001b[0m \u001b[32m━━━━━━━━━━━━━━━━━━━━\u001b[0m\u001b[37m\u001b[0m \u001b[1m5s\u001b[0m 8ms/step - accuracy: 0.8697 - loss: 0.2921 - val_accuracy: 0.7255 - val_loss: 0.6960\n",
            "Epoch 12/40\n",
            "\u001b[1m657/657\u001b[0m \u001b[32m━━━━━━━━━━━━━━━━━━━━\u001b[0m\u001b[37m\u001b[0m \u001b[1m10s\u001b[0m 8ms/step - accuracy: 0.8656 - loss: 0.2809 - val_accuracy: 0.7336 - val_loss: 0.6603\n",
            "Epoch 13/40\n",
            "\u001b[1m657/657\u001b[0m \u001b[32m━━━━━━━━━━━━━━━━━━━━\u001b[0m\u001b[37m\u001b[0m \u001b[1m6s\u001b[0m 9ms/step - accuracy: 0.8799 - loss: 0.2615 - val_accuracy: 0.7155 - val_loss: 0.6711\n",
            "Epoch 14/40\n",
            "\u001b[1m657/657\u001b[0m \u001b[32m━━━━━━━━━━━━━━━━━━━━\u001b[0m\u001b[37m\u001b[0m \u001b[1m5s\u001b[0m 8ms/step - accuracy: 0.8794 - loss: 0.2749 - val_accuracy: 0.7200 - val_loss: 0.6245\n",
            "Epoch 15/40\n",
            "\u001b[1m657/657\u001b[0m \u001b[32m━━━━━━━━━━━━━━━━━━━━\u001b[0m\u001b[37m\u001b[0m \u001b[1m11s\u001b[0m 9ms/step - accuracy: 0.8588 - loss: 0.2868 - val_accuracy: 0.7264 - val_loss: 0.7009\n",
            "Epoch 16/40\n",
            "\u001b[1m657/657\u001b[0m \u001b[32m━━━━━━━━━━━━━━━━━━━━\u001b[0m\u001b[37m\u001b[0m \u001b[1m10s\u001b[0m 9ms/step - accuracy: 0.8705 - loss: 0.2706 - val_accuracy: 0.7082 - val_loss: 0.6882\n",
            "Epoch 17/40\n",
            "\u001b[1m657/657\u001b[0m \u001b[32m━━━━━━━━━━━━━━━━━━━━\u001b[0m\u001b[37m\u001b[0m \u001b[1m10s\u001b[0m 8ms/step - accuracy: 0.8808 - loss: 0.2620 - val_accuracy: 0.7100 - val_loss: 0.6445\n",
            "Epoch 18/40\n",
            "\u001b[1m657/657\u001b[0m \u001b[32m━━━━━━━━━━━━━━━━━━━━\u001b[0m\u001b[37m\u001b[0m \u001b[1m6s\u001b[0m 9ms/step - accuracy: 0.8791 - loss: 0.2731 - val_accuracy: 0.7255 - val_loss: 0.6725\n",
            "Epoch 19/40\n",
            "\u001b[1m657/657\u001b[0m \u001b[32m━━━━━━━━━━━━━━━━━━━━\u001b[0m\u001b[37m\u001b[0m \u001b[1m10s\u001b[0m 9ms/step - accuracy: 0.8869 - loss: 0.2449 - val_accuracy: 0.7300 - val_loss: 0.6908\n",
            "Epoch 20/40\n",
            "\u001b[1m657/657\u001b[0m \u001b[32m━━━━━━━━━━━━━━━━━━━━\u001b[0m\u001b[37m\u001b[0m \u001b[1m10s\u001b[0m 8ms/step - accuracy: 0.8875 - loss: 0.2501 - val_accuracy: 0.7082 - val_loss: 0.7743\n",
            "Epoch 21/40\n",
            "\u001b[1m657/657\u001b[0m \u001b[32m━━━━━━━━━━━━━━━━━━━━\u001b[0m\u001b[37m\u001b[0m \u001b[1m10s\u001b[0m 8ms/step - accuracy: 0.8788 - loss: 0.2494 - val_accuracy: 0.7291 - val_loss: 0.6963\n",
            "Epoch 22/40\n",
            "\u001b[1m657/657\u001b[0m \u001b[32m━━━━━━━━━━━━━━━━━━━━\u001b[0m\u001b[37m\u001b[0m \u001b[1m10s\u001b[0m 9ms/step - accuracy: 0.8617 - loss: 0.3154 - val_accuracy: 0.6973 - val_loss: 0.6373\n",
            "Epoch 23/40\n",
            "\u001b[1m657/657\u001b[0m \u001b[32m━━━━━━━━━━━━━━━━━━━━\u001b[0m\u001b[37m\u001b[0m \u001b[1m6s\u001b[0m 8ms/step - accuracy: 0.8160 - loss: 0.3714 - val_accuracy: 0.7009 - val_loss: 0.6488\n",
            "Epoch 24/40\n",
            "\u001b[1m657/657\u001b[0m \u001b[32m━━━━━━━━━━━━━━━━━━━━\u001b[0m\u001b[37m\u001b[0m \u001b[1m10s\u001b[0m 9ms/step - accuracy: 0.8399 - loss: 0.3331 - val_accuracy: 0.6836 - val_loss: 0.6461\n",
            "Epoch 25/40\n",
            "\u001b[1m657/657\u001b[0m \u001b[32m━━━━━━━━━━━━━━━━━━━━\u001b[0m\u001b[37m\u001b[0m \u001b[1m6s\u001b[0m 9ms/step - accuracy: 0.8629 - loss: 0.3066 - val_accuracy: 0.7009 - val_loss: 0.6723\n",
            "Epoch 26/40\n",
            "\u001b[1m657/657\u001b[0m \u001b[32m━━━━━━━━━━━━━━━━━━━━\u001b[0m\u001b[37m\u001b[0m \u001b[1m10s\u001b[0m 9ms/step - accuracy: 0.8692 - loss: 0.2779 - val_accuracy: 0.7155 - val_loss: 0.6609\n",
            "Epoch 27/40\n",
            "\u001b[1m657/657\u001b[0m \u001b[32m━━━━━━━━━━━━━━━━━━━━\u001b[0m\u001b[37m\u001b[0m \u001b[1m10s\u001b[0m 8ms/step - accuracy: 0.8747 - loss: 0.2680 - val_accuracy: 0.7145 - val_loss: 0.6417\n",
            "Epoch 28/40\n",
            "\u001b[1m657/657\u001b[0m \u001b[32m━━━━━━━━━━━━━━━━━━━━\u001b[0m\u001b[37m\u001b[0m \u001b[1m10s\u001b[0m 8ms/step - accuracy: 0.8794 - loss: 0.2623 - val_accuracy: 0.7091 - val_loss: 0.6877\n",
            "Epoch 29/40\n",
            "\u001b[1m657/657\u001b[0m \u001b[32m━━━━━━━━━━━━━━━━━━━━\u001b[0m\u001b[37m\u001b[0m \u001b[1m6s\u001b[0m 9ms/step - accuracy: 0.8714 - loss: 0.2750 - val_accuracy: 0.7191 - val_loss: 0.6124\n",
            "Epoch 30/40\n",
            "\u001b[1m657/657\u001b[0m \u001b[32m━━━━━━━━━━━━━━━━━━━━\u001b[0m\u001b[37m\u001b[0m \u001b[1m11s\u001b[0m 10ms/step - accuracy: 0.8808 - loss: 0.2622 - val_accuracy: 0.6782 - val_loss: 0.8287\n",
            "Epoch 31/40\n",
            "\u001b[1m657/657\u001b[0m \u001b[32m━━━━━━━━━━━━━━━━━━━━\u001b[0m\u001b[37m\u001b[0m \u001b[1m7s\u001b[0m 10ms/step - accuracy: 0.8374 - loss: 0.3263 - val_accuracy: 0.6436 - val_loss: 0.7445\n",
            "Epoch 32/40\n",
            "\u001b[1m657/657\u001b[0m \u001b[32m━━━━━━━━━━━━━━━━━━━━\u001b[0m\u001b[37m\u001b[0m \u001b[1m6s\u001b[0m 9ms/step - accuracy: 0.8500 - loss: 0.3055 - val_accuracy: 0.6345 - val_loss: 0.7598\n",
            "Epoch 33/40\n",
            "\u001b[1m657/657\u001b[0m \u001b[32m━━━━━━━━━━━━━━━━━━━━\u001b[0m\u001b[37m\u001b[0m \u001b[1m11s\u001b[0m 10ms/step - accuracy: 0.8435 - loss: 0.3239 - val_accuracy: 0.6991 - val_loss: 0.6790\n",
            "Epoch 34/40\n",
            "\u001b[1m657/657\u001b[0m \u001b[32m━━━━━━━━━━━━━━━━━━━━\u001b[0m\u001b[37m\u001b[0m \u001b[1m8s\u001b[0m 12ms/step - accuracy: 0.8688 - loss: 0.2774 - val_accuracy: 0.6818 - val_loss: 0.7416\n",
            "Epoch 35/40\n",
            "\u001b[1m657/657\u001b[0m \u001b[32m━━━━━━━━━━━━━━━━━━━━\u001b[0m\u001b[37m\u001b[0m \u001b[1m8s\u001b[0m 9ms/step - accuracy: 0.8482 - loss: 0.3093 - val_accuracy: 0.6809 - val_loss: 0.8035\n",
            "Epoch 36/40\n",
            "\u001b[1m657/657\u001b[0m \u001b[32m━━━━━━━━━━━━━━━━━━━━\u001b[0m\u001b[37m\u001b[0m \u001b[1m6s\u001b[0m 8ms/step - accuracy: 0.8574 - loss: 0.2879 - val_accuracy: 0.6664 - val_loss: 0.7274\n",
            "Epoch 37/40\n",
            "\u001b[1m657/657\u001b[0m \u001b[32m━━━━━━━━━━━━━━━━━━━━\u001b[0m\u001b[37m\u001b[0m \u001b[1m10s\u001b[0m 9ms/step - accuracy: 0.8700 - loss: 0.2783 - val_accuracy: 0.6773 - val_loss: 0.7216\n",
            "Epoch 38/40\n",
            "\u001b[1m657/657\u001b[0m \u001b[32m━━━━━━━━━━━━━━━━━━━━\u001b[0m\u001b[37m\u001b[0m \u001b[1m5s\u001b[0m 8ms/step - accuracy: 0.8203 - loss: 0.4096 - val_accuracy: 0.6818 - val_loss: 0.6517\n",
            "Epoch 39/40\n",
            "\u001b[1m657/657\u001b[0m \u001b[32m━━━━━━━━━━━━━━━━━━━━\u001b[0m\u001b[37m\u001b[0m \u001b[1m11s\u001b[0m 9ms/step - accuracy: 0.8545 - loss: 0.2865 - val_accuracy: 0.6664 - val_loss: 0.6508\n",
            "Epoch 40/40\n",
            "\u001b[1m657/657\u001b[0m \u001b[32m━━━━━━━━━━━━━━━━━━━━\u001b[0m\u001b[37m\u001b[0m \u001b[1m5s\u001b[0m 8ms/step - accuracy: 0.8544 - loss: 0.2816 - val_accuracy: 0.6991 - val_loss: 0.6526\n"
          ]
        }
      ],
      "source": [
        "history = model.fit(\n",
        "    train_dataset,\n",
        "    validation_data=test_dataset,\n",
        "    epochs=40\n",
        ")"
      ]
    },
    {
      "cell_type": "code",
      "execution_count": null,
      "metadata": {
        "colab": {
          "base_uri": "https://localhost:8080/",
          "height": 474
        },
        "id": "cj6dRAj2Q_WR",
        "outputId": "0e44f017-1c86-4050-d6a3-3b127ea5bd9e"
      },
      "outputs": [
        {
          "data": {
            "image/png": "[encoded data removed]",
            "text/plain": [
              "<Figure size 640x480 with 1 Axes>"
            ]
          },
          "metadata": {},
          "output_type": "display_data"
        }
      ],
      "source": [
        "import matplotlib.pyplot as plt\n",
        "plt.figure()\n",
        "plt.plot(history.history['loss'], label='Entrenamiento')\n",
        "plt.plot(history.history['val_loss'], label='Validación')\n",
        "plt.xlabel('Época')\n",
        "plt.ylabel('Pérdida')\n",
        "plt.title('Curva de pérdida')\n",
        "plt.legend()\n",
        "plt.grid(True)\n",
        "plt.show()"
      ]
    },
    {
      "cell_type": "code",
      "execution_count": null,
      "metadata": {
        "colab": {
          "base_uri": "https://localhost:8080/"
        },
        "id": "nkNGCjykRBkR",
        "outputId": "196064cb-99e8-4e5e-d135-2811dc20a078"
      },
      "outputs": [
        {
          "name": "stdout",
          "output_type": "stream",
          "text": [
            "\u001b[1m35/35\u001b[0m \u001b[32m━━━━━━━━━━━━━━━━━━━━\u001b[0m\u001b[37m\u001b[0m \u001b[1m0s\u001b[0m 11ms/step\n",
            "\n",
            "Reporte de clasificación:\n",
            "              precision    recall  f1-score   support\n",
            "\n",
            "           0       0.46      0.54      0.49       300\n",
            "           1       0.81      0.76      0.79       800\n",
            "\n",
            "    accuracy                           0.70      1100\n",
            "   macro avg       0.64      0.65      0.64      1100\n",
            "weighted avg       0.72      0.70      0.71      1100\n",
            "\n",
            "Matriz de confusión:\n",
            "[[162 138]\n",
            " [193 607]]\n"
          ]
        }
      ],
      "source": [
        "# Split the test_pairs into two separate arrays for each image in the pair\n",
        "test_pairs_a = test_pairs[:, 0]\n",
        "test_pairs_b = test_pairs[:, 1]\n",
        "\n",
        "predictions = model.predict([test_pairs_a, test_pairs_b])\n",
        "y_pred = np.argmax(predictions, axis=1)\n",
        "y_true = np.argmax(test_labels_cat, axis=1)  # Use test_labels_cat for evaluation\n",
        "\n",
        "print(\"\\nReporte de clasificación:\")\n",
        "print(classification_report(y_true, y_pred, target_names=label_encoder.classes_))\n",
        "\n",
        "print(\"Matriz de confusión:\")\n",
        "print(confusion_matrix(y_true, y_pred))"
      ]
    },
    {
      "cell_type": "markdown",
      "metadata": {
        "id": "2KhI6IhUiUr8"
      },
      "source": [
        "# Guardado del modelo y label"
      ]
    },
    {
      "cell_type": "code",
      "execution_count": null,
      "metadata": {
        "colab": {
          "base_uri": "https://localhost:8080/"
        },
        "id": "mMjtjOJbiahs",
        "outputId": "2a172aa3-8147-455d-889a-7d0e7401e2ea"
      },
      "outputs": [
        {
          "name": "stderr",
          "output_type": "stream",
          "text": [
            "WARNING:absl:You are saving your model as an HDF5 file via `model.save()` or `keras.saving.save_model(model)`. This file format is considered legacy. We recommend using instead the native Keras format, e.g. `model.save('my_model.keras')` or `keras.saving.save_model(model, 'my_model.keras')`. \n"
          ]
        }
      ],
      "source": [
        "model.save('/content/drive/MyDrive/dataset_signature/model_signature.h5')"
      ]
    },
    {
      "cell_type": "code",
      "execution_count": null,
      "metadata": {
        "id": "FB8xXyNOiyzE"
      },
      "outputs": [],
      "source": [
        "import pickle\n",
        "\n",
        "# Guardar el LabelEncoder\n",
        "with open('/content/drive/MyDrive/dataset_signature/label_signature.pkl', 'wb') as f:\n",
        "    pickle.dump(label_encoder, f)"
      ]
    }
  ],
  "metadata": {
    "accelerator": "GPU",
    "colab": {
      "gpuType": "T4",
      "provenance": []
    },
    "kernelspec": {
      "display_name": "Python 3",
      "name": "python3"
    },
    "language_info": {
      "name": "python",
      "version": "3.10.0"
    }
  },
  "nbformat": 4,
  "nbformat_minor": 0
}
